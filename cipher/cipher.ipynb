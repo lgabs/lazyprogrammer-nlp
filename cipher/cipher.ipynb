{
 "cells": [
  {
   "cell_type": "code",
   "execution_count": 34,
   "metadata": {},
   "outputs": [],
   "source": [
    "from typing import Union, List\n",
    "import numpy as np\n",
    "import matplotlib.pyplot as plt\n",
    "import string\n",
    "import random\n",
    "import re\n",
    "import requests\n",
    "import os\n",
    "import textwrap"
   ]
  },
  {
   "cell_type": "markdown",
   "metadata": {},
   "source": [
    "## True mapping"
   ]
  },
  {
   "cell_type": "code",
   "execution_count": 5,
   "metadata": {},
   "outputs": [
    {
     "name": "stdout",
     "output_type": "stream",
     "text": [
      "['a', 'b', 'c', 'd', 'e', 'f', 'g', 'h', 'i', 'j', 'k', 'l', 'm', 'n', 'o', 'p', 'q', 'r', 's', 't', 'u', 'v', 'w', 'x', 'y', 'z']\n"
     ]
    }
   ],
   "source": [
    "# create substitution cipher \n",
    "\n",
    "letters1 = list(string.ascii_lowercase)\n",
    "letters2 = list(string.ascii_lowercase)\n",
    "\n",
    "print(letters1)\n",
    "\n",
    "# shuffle second list\n",
    "random.shuffle(letters2)\n",
    "\n",
    "true_mappings = {}\n",
    "for k,v in zip(letters1, letters2):\n",
    "    true_mappings[k] = v"
   ]
  },
  {
   "cell_type": "markdown",
   "metadata": {},
   "source": [
    "This true mapping is the one only known, theoretically, by the sender and receiver, not by the intruder"
   ]
  },
  {
   "cell_type": "code",
   "execution_count": 6,
   "metadata": {},
   "outputs": [
    {
     "name": "stdout",
     "output_type": "stream",
     "text": [
      "{'a': 'p', 'b': 'e', 'c': 'j', 'd': 't', 'e': 'd', 'f': 'c', 'g': 'z', 'h': 'f', 'i': 'q', 'j': 'g', 'k': 'y', 'l': 'm', 'm': 'b', 'n': 's', 'o': 'w', 'p': 'a', 'q': 'x', 'r': 'o', 's': 'n', 't': 'h', 'u': 'u', 'v': 'k', 'w': 'r', 'x': 'l', 'y': 'v', 'z': 'i'}\n"
     ]
    }
   ],
   "source": [
    "print(true_mappings)"
   ]
  },
  {
   "cell_type": "markdown",
   "metadata": {},
   "source": [
    "## Language Model"
   ]
  },
  {
   "cell_type": "code",
   "execution_count": 14,
   "metadata": {},
   "outputs": [
    {
     "data": {
      "text/plain": [
       "(97, 98, 99)"
      ]
     },
     "execution_count": 14,
     "metadata": {},
     "output_type": "execute_result"
    }
   ],
   "source": [
    "# leveraging ord function to get integers from a character to use as index\n",
    "ord(\"a\"), ord(\"b\"), ord(\"c\")"
   ]
  },
  {
   "cell_type": "code",
   "execution_count": 25,
   "metadata": {},
   "outputs": [
    {
     "data": {
      "text/plain": [
       "['abcd', 'as', 'as']"
      ]
     },
     "execution_count": 25,
     "metadata": {},
     "output_type": "execute_result"
    }
   ],
   "source": [
    "word = \"abcd as as\"\n",
    "word.split()"
   ]
  },
  {
   "cell_type": "code",
   "execution_count": null,
   "metadata": {},
   "outputs": [],
   "source": [
    "np."
   ]
  },
  {
   "cell_type": "code",
   "execution_count": 19,
   "metadata": {},
   "outputs": [
    {
     "data": {
      "text/plain": [
       "10"
      ]
     },
     "execution_count": 19,
     "metadata": {},
     "output_type": "execute_result"
    }
   ],
   "source": [
    "l=[1,2,3,4]\n",
    "\n",
    "sum(l)"
   ]
  },
  {
   "cell_type": "code",
   "execution_count": 35,
   "metadata": {},
   "outputs": [],
   "source": [
    "# markov matrix to store bigram probabilities\n",
    "# we initialize with ones to consider \"add-one smoothing\"\n",
    "M = np.ones((26,26))\n",
    "\n",
    "# initial state distribution (unigrams probabilities)\n",
    "pi = np.zeros(26)\n",
    "\n",
    "def update_bigrams(ch1, ch2):\n",
    "    i = ord(ch1) - 97\n",
    "    j = ord(ch1) - 97\n",
    "    M[i,j] += 1\n",
    "    \n",
    "def update_unigrams(ch):\n",
    "    i = ord(ch) - 97\n",
    "    pi[i] += 1\n",
    "    \n",
    "# get log-probability of a word/token\n",
    "def get_word_prob(word):\n",
    "    \n",
    "    probs = []\n",
    "    # first word index\n",
    "    i = ord(word[0]) - 97\n",
    "    probs.append(np.log(pi[i]))\n",
    "    \n",
    "    # rest of sentence\n",
    "    for w_previous, w in zip(word, word[1:]):\n",
    "        i = ord(w_previous) - 97\n",
    "        j = ord(w) - 97\n",
    "        probs.append(np.log(M[i,j]))\n",
    "        \n",
    "    # find log-probability\n",
    "    return sum(probs)\n",
    "\n",
    "# get log-probability of a document, which is a sequence of words\n",
    "def get_sequence_prob(doc:Union[str, List]):\n",
    "    \n",
    "    if type(doc) == str:\n",
    "        doc = doc.split()\n",
    "        \n",
    "    prob = 0\n",
    "    for word in doc:\n",
    "        prob += get_word_prob(word)\n",
    "        \n",
    "    return prob"
   ]
  },
  {
   "cell_type": "code",
   "execution_count": 39,
   "metadata": {},
   "outputs": [
    {
     "data": {
      "text/plain": [
       "<function __main__.get_sequence_prob(doc: Union[str, List])>"
      ]
     },
     "execution_count": 39,
     "metadata": {},
     "output_type": "execute_result"
    }
   ],
   "source": [
    "get_sequence_prob"
   ]
  }
 ],
 "metadata": {
  "kernelspec": {
   "display_name": "Python 3.7.3 64-bit ('base': conda)",
   "language": "python",
   "name": "python37364bitbaseconda03eaccf44e6b42268c0521612d847ba6"
  },
  "language_info": {
   "codemirror_mode": {
    "name": "ipython",
    "version": 3
   },
   "file_extension": ".py",
   "mimetype": "text/x-python",
   "name": "python",
   "nbconvert_exporter": "python",
   "pygments_lexer": "ipython3",
   "version": "3.7.3"
  }
 },
 "nbformat": 4,
 "nbformat_minor": 4
}
