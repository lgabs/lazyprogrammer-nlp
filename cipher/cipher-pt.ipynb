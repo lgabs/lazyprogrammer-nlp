{
 "cells": [
  {
   "cell_type": "code",
   "execution_count": 3,
   "metadata": {
    "ExecuteTime": {
     "end_time": "2020-06-29T00:52:26.133756Z",
     "start_time": "2020-06-29T00:52:26.116819Z"
    }
   },
   "outputs": [],
   "source": [
    "from typing import Union, List\n",
    "import numpy as np\n",
    "import matplotlib.pyplot as plt\n",
    "import string\n",
    "import random\n",
    "import re\n",
    "import requests\n",
    "import os\n",
    "import textwrap\n",
    "\n",
    "from nltk.corpus import machado, mac_morpho, floresta, genesis\n",
    "from nltk.text import Text"
   ]
  },
  {
   "cell_type": "code",
   "execution_count": 34,
   "metadata": {
    "ExecuteTime": {
     "end_time": "2020-06-29T01:04:54.334457Z",
     "start_time": "2020-06-29T01:04:54.206711Z"
    }
   },
   "outputs": [
    {
     "name": "stdout",
     "output_type": "stream",
     "text": [
      "\u001b[0m\u001b[01;34mfloresta\u001b[0m/      \u001b[01;31mmachado.zip\u001b[0m  \u001b[01;32mmac_morpho.zip\u001b[0m*  \u001b[01;32mstopwords.zip\u001b[0m*  \u001b[01;32mwordnet.zip\u001b[0m*\r\n",
      "\u001b[01;32mfloresta.zip\u001b[0m*  \u001b[01;34mmac_morpho\u001b[0m/  \u001b[01;34mstopwords\u001b[0m/       \u001b[01;34mwordnet\u001b[0m/\r\n"
     ]
    }
   ],
   "source": [
    "ls /home/luan/nltk_data/corpora/"
   ]
  },
  {
   "cell_type": "code",
   "execution_count": 35,
   "metadata": {
    "ExecuteTime": {
     "end_time": "2020-06-29T01:04:57.037051Z",
     "start_time": "2020-06-29T01:04:56.900938Z"
    }
   },
   "outputs": [
    {
     "name": "stdout",
     "output_type": "stream",
     "text": [
      "cipher.ipynb  cipher-pt.ipynb  marm01.txt  moby_dick.txt\r\n"
     ]
    }
   ],
   "source": [
    "!ls"
   ]
  },
  {
   "cell_type": "markdown",
   "metadata": {},
   "source": [
    "## True mapping"
   ]
  },
  {
   "cell_type": "code",
   "execution_count": 30,
   "metadata": {
    "ExecuteTime": {
     "end_time": "2020-06-29T01:03:07.553705Z",
     "start_time": "2020-06-29T01:03:07.537522Z"
    }
   },
   "outputs": [
    {
     "name": "stdout",
     "output_type": "stream",
     "text": [
      "['a', 'b', 'c', 'd', 'e', 'f', 'g', 'h', 'i', 'j', 'k', 'l', 'm', 'n', 'o', 'p', 'q', 'r', 's', 't', 'u', 'v', 'w', 'x', 'y', 'z']\n"
     ]
    }
   ],
   "source": [
    "# create substitution cipher \n",
    "\n",
    "letters1 = list(string.ascii_lowercase)\n",
    "letters2 = list(string.ascii_lowercase)\n",
    "\n",
    "print(letters1)\n",
    "\n",
    "# shuffle second list\n",
    "random.shuffle(letters2)\n",
    "\n",
    "true_mappings = {}\n",
    "for k,v in zip(letters1, letters2):\n",
    "    true_mappings[k] = v"
   ]
  },
  {
   "cell_type": "markdown",
   "metadata": {},
   "source": [
    "This true mapping is the one only known, theoretically, by the sender and receiver, not by the intruder"
   ]
  },
  {
   "cell_type": "code",
   "execution_count": 31,
   "metadata": {
    "ExecuteTime": {
     "end_time": "2020-06-29T01:03:08.117615Z",
     "start_time": "2020-06-29T01:03:08.111247Z"
    }
   },
   "outputs": [
    {
     "name": "stdout",
     "output_type": "stream",
     "text": [
      "{'a': 'f', 'b': 'z', 'c': 'h', 'd': 'm', 'e': 'g', 'f': 's', 'g': 'l', 'h': 'x', 'i': 'r', 'j': 'y', 'k': 'u', 'l': 'n', 'm': 'a', 'n': 'p', 'o': 'k', 'p': 'd', 'q': 'b', 'r': 'q', 's': 't', 't': 'v', 'u': 'o', 'v': 'i', 'w': 'j', 'x': 'e', 'y': 'w', 'z': 'c'}\n"
     ]
    }
   ],
   "source": [
    "print(true_mappings)"
   ]
  },
  {
   "cell_type": "markdown",
   "metadata": {},
   "source": [
    "## Language Model"
   ]
  },
  {
   "cell_type": "code",
   "execution_count": 32,
   "metadata": {
    "ExecuteTime": {
     "end_time": "2020-06-29T01:03:09.130230Z",
     "start_time": "2020-06-29T01:03:09.114990Z"
    }
   },
   "outputs": [
    {
     "data": {
      "text/plain": [
       "(97, 98, 99)"
      ]
     },
     "execution_count": 32,
     "metadata": {},
     "output_type": "execute_result"
    }
   ],
   "source": [
    "# leveraging ord function to get integers from a character to use as index\n",
    "ord(\"a\"), ord(\"b\"), ord(\"c\")"
   ]
  },
  {
   "cell_type": "code",
   "execution_count": 36,
   "metadata": {
    "ExecuteTime": {
     "end_time": "2020-06-29T01:05:18.900486Z",
     "start_time": "2020-06-29T01:05:18.872371Z"
    }
   },
   "outputs": [],
   "source": [
    "# markov matrix to store bigram probabilities\n",
    "# we initialize with ones to consider \"add-one smoothing\"\n",
    "M = np.ones((26,26))\n",
    "\n",
    "# initial state distribution (unigrams probabilities)\n",
    "pi = np.zeros(26)\n",
    "\n",
    "def update_bigrams(ch1, ch2):\n",
    "    i = ord(ch1) - 97\n",
    "    j = ord(ch2) - 97\n",
    "    M[i,j] += 1\n",
    "    \n",
    "def update_unigrams(ch):\n",
    "    i = ord(ch) - 97\n",
    "    pi[i] += 1\n",
    "    \n",
    "# get log-probability of a word/token\n",
    "def get_word_prob(word):\n",
    "    \n",
    "    probs = []\n",
    "    # first word index\n",
    "    i = ord(word[0]) - 97\n",
    "    probs.append(np.log(pi[i]))\n",
    "    \n",
    "    # rest of sentence\n",
    "    for w_previous, w in zip(word, word[1:]):\n",
    "        i = ord(w_previous) - 97\n",
    "        j = ord(w) - 97\n",
    "        probs.append(np.log(M[i,j]))\n",
    "        \n",
    "    # find log-probability\n",
    "    return sum(probs)\n",
    "\n",
    "# get log-probability of a document, which is a sequence of words\n",
    "def get_sequence_prob(doc:Union[str, List]):\n",
    "    \n",
    "    if type(doc) == str:\n",
    "        doc = doc.split()\n",
    "        \n",
    "    prob = 0\n",
    "    for word in doc:\n",
    "        prob += get_word_prob(word)\n",
    "        \n",
    "    return prob"
   ]
  },
  {
   "cell_type": "markdown",
   "metadata": {},
   "source": [
    "## Creating a Language Model from Moby Dick Book"
   ]
  },
  {
   "cell_type": "code",
   "execution_count": 40,
   "metadata": {
    "ExecuteTime": {
     "end_time": "2020-06-29T01:08:36.602669Z",
     "start_time": "2020-06-29T01:08:36.590600Z"
    }
   },
   "outputs": [],
   "source": [
    "import io\n",
    "f = io.open('marm01.txt', 'r', encoding='utf-8')"
   ]
  },
  {
   "cell_type": "code",
   "execution_count": 42,
   "metadata": {
    "ExecuteTime": {
     "end_time": "2020-06-29T01:09:40.301517Z",
     "start_time": "2020-06-29T01:09:40.100741Z"
    }
   },
   "outputs": [],
   "source": [
    "regex = re.compile('[^a-zA-Z]')\n",
    "\n",
    "for line in open('marm01.txt', 'r', encoding=\"latin-1\"):\n",
    "    line = line.rstrip()\n",
    "    if line:\n",
    "        # replace non-alpha characters with space\n",
    "        line = regex.sub(' ', line) \n",
    "        tokens = line.lower().split()\n",
    "        \n",
    "        # update our language model \n",
    "        for token in tokens:\n",
    "            # update first unigram letter\n",
    "            ch0 = token[0]\n",
    "            update_unigrams(ch0)\n",
    "            \n",
    "            # update bigrams for the other letters\n",
    "            for ch1 in token[1:]:\n",
    "                update_bigrams(ch0, ch1)\n",
    "                ch0 = ch1\n",
    "\n",
    "# normalize probabilities\n",
    "pi /= pi.sum()\n",
    "M /= M.sum(axis=1, keepdims=True)"
   ]
  },
  {
   "cell_type": "code",
   "execution_count": 59,
   "metadata": {
    "ExecuteTime": {
     "end_time": "2020-06-29T01:14:53.976534Z",
     "start_time": "2020-06-29T01:14:53.969680Z"
    }
   },
   "outputs": [
    {
     "data": {
      "text/plain": [
       "'o Dr  F lix levantou se tarde  abriu a janela e cumprimentou o sol  O dia   estava espl ndido  uma fresca bafagem do mar vinha quebrar um pouco os ardores   do estio  algumas raras nuvenzinhas brancas  finas e transparentes se   destacavam no azul do c u  Chilreavam na ch cara vizinha   casa do doutor   algumas aves afeitas   vida semi urbana  semi silvestre que lhes pode oferecer   uma ch cara nas Laranjeiras  Parecia que toda a natureza colaborava na   inaugura  o do ano  Aqueles para quem a idade j  desfez o vi o dos primeiros   tempos  n o se ter o esquecido do fervor com que esse dia   saudado na meninice   e na adolesc ncia  Tudo nos parece melhor e mais belo     fruto da nossa ilus o       e alegres com vermos o ano que desponta  n o reparamos que ele   tamb m um   passo para a morte   '"
      ]
     },
     "execution_count": 59,
     "metadata": {},
     "output_type": "execute_result"
    }
   ],
   "source": [
    "regex.sub(\" \", original_message)"
   ]
  },
  {
   "cell_type": "code",
   "execution_count": 44,
   "metadata": {
    "ExecuteTime": {
     "end_time": "2020-06-29T01:09:51.025698Z",
     "start_time": "2020-06-29T01:09:51.010285Z"
    }
   },
   "outputs": [
    {
     "data": {
      "text/plain": [
       "(array([[8.15594160e-05, 2.28366365e-02, 2.50387407e-02, 8.18856537e-02,\n",
       "         1.63118832e-04, 9.62401109e-03, 1.39466601e-02, 8.97153576e-04,\n",
       "         3.92300791e-02, 8.97153576e-04, 2.44678248e-04, 8.45771144e-02,\n",
       "         9.69741457e-02, 1.02193948e-01, 1.54962890e-02, 2.74855232e-02,\n",
       "         2.18579235e-02, 1.54636653e-01, 1.76331457e-01, 3.53967866e-02,\n",
       "         7.91126336e-03, 6.60631270e-02, 8.15594160e-05, 8.15594160e-05,\n",
       "         8.15594160e-05, 1.59856455e-02],\n",
       "        [1.83603757e-01, 8.53970965e-04, 8.53970965e-04, 1.70794193e-03,\n",
       "         2.16054654e-01, 8.53970965e-04, 8.53970965e-04, 8.53970965e-04,\n",
       "         1.22971819e-01, 8.53970965e-03, 8.53970965e-04, 1.02476516e-02,\n",
       "         2.56191289e-03, 1.70794193e-03, 1.46029035e-01, 8.53970965e-04,\n",
       "         8.53970965e-04, 2.12638770e-01, 3.92826644e-02, 5.12382579e-03,\n",
       "         3.75747225e-02, 8.53970965e-04, 8.53970965e-04, 8.53970965e-04,\n",
       "         1.70794193e-03, 8.53970965e-04]]), array([0.11327047]))"
      ]
     },
     "execution_count": 44,
     "metadata": {},
     "output_type": "execute_result"
    }
   ],
   "source": [
    "M[:2], pi[:1]"
   ]
  },
  {
   "cell_type": "markdown",
   "metadata": {},
   "source": [
    "## Encoding Messages"
   ]
  },
  {
   "cell_type": "code",
   "execution_count": 53,
   "metadata": {
    "ExecuteTime": {
     "end_time": "2020-06-29T01:13:24.970159Z",
     "start_time": "2020-06-29T01:13:24.955862Z"
    }
   },
   "outputs": [],
   "source": [
    "### encode a message\n",
    "\n",
    "# this is a random excerpt from Project Gutenberg's\n",
    "# The Adventures of Sherlock Holmes, by Arthur Conan Doyle\n",
    "# https://www.gutenberg.org/ebooks/1661\n",
    "\n",
    "# original_message = '''Eu preciso da sua ajuda, estou preso em uma prisão no interior\n",
    "# do estado. ele vieram por toda parte e me encurralaram, agora estou aqui sofrendo de dor.\n",
    "# Peço que busquem ajuda o mais rápido possível para me salvar.\n",
    "# '''\n",
    "\n",
    "original_message = \"\"\"o Dr. Félix levantou-se tarde, abriu a janela e cumprimentou o sol. O dia\n",
    "  estava esplêndido; uma fresca bafagem do mar vinha quebrar um pouco os ardores\n",
    "  do estio; algumas raras nuvenzinhas brancas, finas e transparentes se\n",
    "  destacavam no azul do céu. Chilreavam na chácara vizinha à casa do doutor\n",
    "  algumas aves afeitas à vida semi-urbana, semi-silvestre que lhes pode oferecer\n",
    "  uma chácara nas Laranjeiras. Parecia que toda a natureza colaborava na\n",
    "  inauguração do ano. Aqueles para quem a idade já desfez o viço dos primeiros\n",
    "  tempos, não se terão esquecido do fervor com que esse dia é saudado na meninice\n",
    "  e na adolescência. Tudo nos parece melhor e mais belo, -- fruto da nossa ilusão,\n",
    "  -- e alegres com vermos o ano que desponta, não reparamos que ele é também um\n",
    "  passo para a morte.\n",
    "\n",
    "\"\"\""
   ]
  },
  {
   "cell_type": "code",
   "execution_count": 54,
   "metadata": {
    "ExecuteTime": {
     "end_time": "2020-06-29T01:13:29.902456Z",
     "start_time": "2020-06-29T01:13:29.887120Z"
    }
   },
   "outputs": [],
   "source": [
    "def encode_msg(msg):\n",
    "    \n",
    "    # lowercase everything and remove non-alpha charcaters\n",
    "    msg = msg.lower()\n",
    "    msg = regex.sub(\" \", msg)\n",
    "    \n",
    "    coded_msg = []\n",
    "    for ch in msg:\n",
    "        coded_ch = ch\n",
    "        if ch in true_mappings:\n",
    "            coded_ch = true_mappings[ch]\n",
    "        coded_msg.append(coded_ch)\n",
    "            \n",
    "    return \"\".join(coded_msg)\n",
    "\n",
    "def decode_msg(msg, word_mapping):\n",
    "    decoded_msg = []\n",
    "    for ch in msg:\n",
    "        decoded_ch = ch\n",
    "        if ch in word_mapping:\n",
    "            decoded_ch = word_mapping[ch]\n",
    "        decoded_msg.append(decoded_ch)\n",
    "            \n",
    "    return \"\".join(decoded_msg)"
   ]
  },
  {
   "cell_type": "code",
   "execution_count": 55,
   "metadata": {
    "ExecuteTime": {
     "end_time": "2020-06-29T01:13:30.337510Z",
     "start_time": "2020-06-29T01:13:30.322801Z"
    }
   },
   "outputs": [
    {
     "name": "stdout",
     "output_type": "stream",
     "text": [
      "k mq  s nre ngifpvko tg vfqmg  fzqro f yfpgnf g hoadqragpvko k tkn  k mrf   gtvfif gtdn pmrmk  oaf sqgthf zfsflga mk afq irpxf bogzqfq oa dkohk kt fqmkqgt   mk gtvrk  fnloaft qfqft poigpcrpxft zqfphft  srpft g vqfptdfqgpvgt tg   mgtvfhfifa pk fcon mk h o  hxrnqgfifa pf hx hfqf ircrpxf   hftf mk mkovkq   fnloaft figt fsgrvft   irmf tgar oqzfpf  tgar trnigtvqg bog nxgt dkmg ksgqghgq   oaf hx hfqf pft nfqfpygrqft  dfqghrf bog vkmf f pfvoqgcf hknfzkqfif pf   rpfoloqf  k mk fpk  fbogngt dfqf boga f rmfmg y  mgtsgc k ir k mkt dqragrqkt   vgadkt  p k tg vgq k gtboghrmk mk sgqikq hka bog gttg mrf   tfomfmk pf agprprhg   g pf fmkngth phrf  vomk pkt dfqghg agnxkq g afrt zgnk     sqovk mf pkttf rnot k       g fnglqgt hka igqakt k fpk bog mgtdkpvf  p k qgdfqfakt bog gng   vfaz a oa   dfttk dfqf f akqvg   \n"
     ]
    }
   ],
   "source": [
    "encoded_msg = encode_msg(original_message)\n",
    "print(encoded_msg)"
   ]
  },
  {
   "cell_type": "markdown",
   "metadata": {},
   "source": [
    "## Genetic Evolutionary Algorithm to decode messages"
   ]
  },
  {
   "cell_type": "code",
   "execution_count": 56,
   "metadata": {
    "ExecuteTime": {
     "end_time": "2020-06-29T01:13:33.159745Z",
     "start_time": "2020-06-29T01:13:33.138058Z"
    }
   },
   "outputs": [],
   "source": [
    "def generate_dna_pool(n=20):\n",
    "    dna_pool = []\n",
    "    for _ in range(n):\n",
    "        dna = list(string.ascii_lowercase)\n",
    "        random.shuffle(dna)\n",
    "        dna_pool.append(dna)\n",
    "    \n",
    "    return dna_pool\n",
    "\n",
    "def procriate_offspring(dna_pool, n_children=3):\n",
    "    \n",
    "    offspring = []\n",
    "    for parent in dna_pool:\n",
    "        for _ in range(n_children):\n",
    "            copy = parent.copy()\n",
    "            i = np.random.randint(len(copy))\n",
    "            j = np.random.randint(len(copy))\n",
    "            \n",
    "            # swap characters\n",
    "            tmp = copy[i]\n",
    "            copy[i] = copy[j]\n",
    "            copy[j] = tmp\n",
    "            \n",
    "            offspring.append(copy)\n",
    "            \n",
    "    return offspring + dna_pool\n",
    "        "
   ]
  },
  {
   "cell_type": "code",
   "execution_count": 57,
   "metadata": {
    "ExecuteTime": {
     "end_time": "2020-06-29T01:13:34.489624Z",
     "start_time": "2020-06-29T01:13:34.458804Z"
    }
   },
   "outputs": [],
   "source": [
    "def run_model(n_epochs=100):\n",
    "    \n",
    "    n_survivals = 5\n",
    "    scores = np.zeros(n_epochs)\n",
    "    best_dna = None\n",
    "    best_map = None\n",
    "    best_score = float('-inf')\n",
    "    \n",
    "    dna_pool = generate_dna_pool()\n",
    "    \n",
    "    for i in range(n_epochs):\n",
    "        if i > 0:\n",
    "            dna_pool = procriate_offspring(dna_pool, n_survivals)\n",
    "\n",
    "        # calculate score for each dna\n",
    "        dna2score = {}\n",
    "        for dna in dna_pool:\n",
    "            # build a map from current dna sequence\n",
    "            current_map = {}\n",
    "            for k,v in zip(letters1, dna):\n",
    "                current_map[k] = v\n",
    "\n",
    "            # decode using current map    \n",
    "            decoded_msg = decode_msg(encoded_msg, current_map)\n",
    "            score = get_sequence_prob(decoded_msg)\n",
    "\n",
    "            # store this result\n",
    "            dna2score[''.join(dna)] = score\n",
    "\n",
    "            # check if this score is better than the best\n",
    "            if score > best_score:\n",
    "                best_score = score\n",
    "                best_dna = dna\n",
    "                best_map = current_map\n",
    "\n",
    "        scores[i] = np.mean(list(dna2score.values()))\n",
    "\n",
    "        # keep the best DNAs, survival of the fittest, using n_survivals\n",
    "        sorted_dna = sorted(dna2score.items(), key=lambda x: x[1], reverse=True)\n",
    "        dna_pool = [list(k) for k,v in sorted_dna[:n_survivals]]\n",
    "#         [list(k) for k, v in sorted_dna[:5]]\n",
    "\n",
    "        if i % 200 == 0:\n",
    "            print(\"iter:\", i, \"score:\", scores[i], \"best so far:\", best_score)\n",
    "        \n",
    "    return best_dna, best_map, best_score, scores"
   ]
  },
  {
   "cell_type": "code",
   "execution_count": 58,
   "metadata": {
    "ExecuteTime": {
     "end_time": "2020-06-29T01:14:06.843349Z",
     "start_time": "2020-06-29T01:13:35.324406Z"
    }
   },
   "outputs": [
    {
     "name": "stderr",
     "output_type": "stream",
     "text": [
      "/home/luan/.local/lib/python3.7/site-packages/ipykernel_launcher.py:23: RuntimeWarning: divide by zero encountered in log\n"
     ]
    },
    {
     "name": "stdout",
     "output_type": "stream",
     "text": [
      "iter: 0 score: -inf best so far: -inf\n",
      "iter: 200 score: -inf best so far: -1381.7913519609867\n",
      "iter: 400 score: -inf best so far: -1381.7913519609867\n",
      "iter: 600 score: -inf best so far: -1381.7913519609867\n",
      "iter: 800 score: -inf best so far: -1381.7913519609867\n"
     ]
    }
   ],
   "source": [
    "# Run the evolution!\n",
    "n_epochs = 1000\n",
    "best_dna, best_map, best_score, scores = run_model(n_epochs)"
   ]
  },
  {
   "cell_type": "code",
   "execution_count": 60,
   "metadata": {
    "ExecuteTime": {
     "end_time": "2020-06-29T01:15:02.348549Z",
     "start_time": "2020-06-29T01:15:02.323621Z"
    }
   },
   "outputs": [
    {
     "name": "stdout",
     "output_type": "stream",
     "text": [
      "LL of decoded with best mapping:  -1381.7913519609867\n",
      "LL of original mapping:  -1381.7913519609867\n",
      "true: k, pred: w\n",
      "true: w, pred: k\n"
     ]
    }
   ],
   "source": [
    "# use best score\n",
    "decoded_msg = decode_msg(encoded_msg, best_map)\n",
    "\n",
    "print(\"LL of decoded with best mapping: \", get_sequence_prob(decoded_msg))\n",
    "print(\"LL of original mapping: \", get_sequence_prob(regex.sub(\" \", original_message.lower())))\n",
    "\n",
    "for true, v in true_mappings.items():\n",
    "    pred = best_map[v] # best map is a reverse map\n",
    "    if true != pred:\n",
    "        print(f\"true: {true}, pred: {pred}\")"
   ]
  },
  {
   "cell_type": "code",
   "execution_count": 61,
   "metadata": {
    "ExecuteTime": {
     "end_time": "2020-06-29T01:15:12.959208Z",
     "start_time": "2020-06-29T01:15:12.951968Z"
    }
   },
   "outputs": [
    {
     "name": "stdout",
     "output_type": "stream",
     "text": [
      "decoded message:\n",
      "\n",
      " o dr  f lix levantou se tarde  abriu a janela e cumprimentou o sol  o\n",
      "dia   estava espl ndido  uma fresca bafagem do mar vinha quebrar um\n",
      "pouco os ardores   do estio  algumas raras nuvenzinhas brancas  finas\n",
      "e transparentes se   destacavam no azul do c u  chilreavam na ch cara\n",
      "vizinha   casa do doutor   algumas aves afeitas   vida semi urbana\n",
      "semi silvestre que lhes pode oferecer   uma ch cara nas laranjeiras\n",
      "parecia que toda a natureza colaborava na   inaugura  o do ano\n",
      "aqueles para quem a idade j  desfez o vi o dos primeiros   tempos  n o\n",
      "se ter o esquecido do fervor com que esse dia   saudado na meninice\n",
      "e na adolesc ncia  tudo nos parece melhor e mais belo     fruto da\n",
      "nossa ilus o       e alegres com vermos o ano que desponta  n o\n",
      "reparamos que ele   tamb m um   passo para a morte\n",
      "\n",
      "original message:\n",
      "\n",
      " o Dr. Félix levantou-se tarde, abriu a janela e cumprimentou o sol. O dia\n",
      "  estava esplêndido; uma fresca bafagem do mar vinha quebrar um pouco os ardores\n",
      "  do estio; algumas raras nuvenzinhas brancas, finas e transparentes se\n",
      "  destacavam no azul do céu. Chilreavam na chácara vizinha à casa do doutor\n",
      "  algumas aves afeitas à vida semi-urbana, semi-silvestre que lhes pode oferecer\n",
      "  uma chácara nas Laranjeiras. Parecia que toda a natureza colaborava na\n",
      "  inauguração do ano. Aqueles para quem a idade já desfez o viço dos primeiros\n",
      "  tempos, não se terão esquecido do fervor com que esse dia é saudado na meninice\n",
      "  e na adolescência. Tudo nos parece melhor e mais belo, -- fruto da nossa ilusão,\n",
      "  -- e alegres com vermos o ano que desponta, não reparamos que ele é também um\n",
      "  passo para a morte.\n",
      "\n",
      "\n"
     ]
    }
   ],
   "source": [
    "print(\"decoded message:\\n\\n\", textwrap.fill(decoded_msg)) \n",
    "\n",
    "print(\"\\noriginal message:\\n\\n\", original_message)"
   ]
  }
 ],
 "metadata": {
  "kernelspec": {
   "display_name": "Python 3.7.6 64-bit ('rasa': conda)",
   "language": "python",
   "name": "python37664bitrasacondad9145d6131674bb8ab1bad5e27d9d755"
  },
  "language_info": {
   "codemirror_mode": {
    "name": "ipython",
    "version": 3
   },
   "file_extension": ".py",
   "mimetype": "text/x-python",
   "name": "python",
   "nbconvert_exporter": "python",
   "pygments_lexer": "ipython3",
   "version": "3.7.6"
  },
  "toc": {
   "base_numbering": 1,
   "nav_menu": {},
   "number_sections": true,
   "sideBar": true,
   "skip_h1_title": false,
   "title_cell": "Table of Contents",
   "title_sidebar": "Contents",
   "toc_cell": false,
   "toc_position": {},
   "toc_section_display": true,
   "toc_window_display": false
  }
 },
 "nbformat": 4,
 "nbformat_minor": 4
}
